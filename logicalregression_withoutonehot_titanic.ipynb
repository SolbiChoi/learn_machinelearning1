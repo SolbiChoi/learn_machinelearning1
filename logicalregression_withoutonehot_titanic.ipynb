{
  "nbformat": 4,
  "nbformat_minor": 5,
  "metadata": {
    "kernelspec": {
      "display_name": "Python 3",
      "language": "python",
      "name": "python3"
    },
    "language_info": {
      "codemirror_mode": {
        "name": "ipython",
        "version": 3
      },
      "file_extension": ".py",
      "mimetype": "text/x-python",
      "name": "python",
      "nbconvert_exporter": "python",
      "pygments_lexer": "ipython3",
      "version": "3.6.4"
    },
    "colab": {
      "name": "Untitled1.ipynb",
      "provenance": []
    }
  },
  "cells": [
    {
      "cell_type": "code",
      "metadata": {
        "id": "a92f818a"
      },
      "source": [
        "import seaborn as sns\n",
        "df = sns.load_dataset('titanic')\n",
        "df"
      ],
      "id": "a92f818a",
      "execution_count": null,
      "outputs": []
    },
    {
      "cell_type": "code",
      "metadata": {
        "colab": {
          "base_uri": "https://localhost:8080/"
        },
        "id": "FvXiWGC5-2ro",
        "outputId": "a6dfdff5-61c8-4264-9558-620e09427ef7"
      },
      "source": [
        "X = df[['fare', 'pclass']]\n",
        "Y = df[['survived']]\n",
        "X.shape, Y.shape"
      ],
      "id": "FvXiWGC5-2ro",
      "execution_count": 5,
      "outputs": [
        {
          "output_type": "execute_result",
          "data": {
            "text/plain": [
              "((891, 2), (891, 1))"
            ]
          },
          "metadata": {
            "tags": []
          },
          "execution_count": 5
        }
      ]
    },
    {
      "cell_type": "code",
      "metadata": {
        "colab": {
          "base_uri": "https://localhost:8080/"
        },
        "id": "kxueWgaQBOJr",
        "outputId": "aaf33a8b-482d-49a4-dbed-8aa3dde50980"
      },
      "source": [
        "from sklearn.preprocessing import StandardScaler\n",
        "scaler = StandardScaler()\n",
        "scaler.fit(X)"
      ],
      "id": "kxueWgaQBOJr",
      "execution_count": 6,
      "outputs": [
        {
          "output_type": "execute_result",
          "data": {
            "text/plain": [
              "StandardScaler(copy=True, with_mean=True, with_std=True)"
            ]
          },
          "metadata": {
            "tags": []
          },
          "execution_count": 6
        }
      ]
    },
    {
      "cell_type": "code",
      "metadata": {
        "colab": {
          "base_uri": "https://localhost:8080/"
        },
        "id": "OUayd-M4B2aE",
        "outputId": "35bb9b66-d3f0-459f-afe8-62ccb3dd96be"
      },
      "source": [
        "X = scaler.transform(X)\n",
        "X.shape"
      ],
      "id": "OUayd-M4B2aE",
      "execution_count": 7,
      "outputs": [
        {
          "output_type": "execute_result",
          "data": {
            "text/plain": [
              "(891, 2)"
            ]
          },
          "metadata": {
            "tags": []
          },
          "execution_count": 7
        }
      ]
    },
    {
      "cell_type": "code",
      "metadata": {
        "id": "RI48ZV68ClXA"
      },
      "source": [
        "from sklearn.model_selection import train_test_split"
      ],
      "id": "RI48ZV68ClXA",
      "execution_count": 8,
      "outputs": []
    },
    {
      "cell_type": "code",
      "metadata": {
        "id": "Ac9P8Z3KCvfL"
      },
      "source": [
        "x_train, x_test ,y_train, y_test = train_test_split(X,Y)"
      ],
      "id": "Ac9P8Z3KCvfL",
      "execution_count": 9,
      "outputs": []
    },
    {
      "cell_type": "code",
      "metadata": {
        "colab": {
          "base_uri": "https://localhost:8080/"
        },
        "id": "uFfjU7uWCCeZ",
        "outputId": "18496751-9aa2-4fa1-fee0-7cc9c0e9ecc2"
      },
      "source": [
        "from sklearn.linear_model import LogisticRegression\n",
        "logR = LogisticRegression()\n",
        "logR.fit(x_train,y_train)"
      ],
      "id": "uFfjU7uWCCeZ",
      "execution_count": 10,
      "outputs": [
        {
          "output_type": "stream",
          "text": [
            "/usr/local/lib/python3.7/dist-packages/sklearn/utils/validation.py:760: DataConversionWarning: A column-vector y was passed when a 1d array was expected. Please change the shape of y to (n_samples, ), for example using ravel().\n",
            "  y = column_or_1d(y, warn=True)\n"
          ],
          "name": "stderr"
        },
        {
          "output_type": "execute_result",
          "data": {
            "text/plain": [
              "LogisticRegression(C=1.0, class_weight=None, dual=False, fit_intercept=True,\n",
              "                   intercept_scaling=1, l1_ratio=None, max_iter=100,\n",
              "                   multi_class='auto', n_jobs=None, penalty='l2',\n",
              "                   random_state=None, solver='lbfgs', tol=0.0001, verbose=0,\n",
              "                   warm_start=False)"
            ]
          },
          "metadata": {
            "tags": []
          },
          "execution_count": 10
        }
      ]
    },
    {
      "cell_type": "code",
      "metadata": {
        "colab": {
          "base_uri": "https://localhost:8080/"
        },
        "id": "G1zjA6IqCgt8",
        "outputId": "70bc1f57-a9bc-4f49-8baa-7a419ca5c7ad"
      },
      "source": [
        "logR.score(x_train,y_train)"
      ],
      "id": "G1zjA6IqCgt8",
      "execution_count": 11,
      "outputs": [
        {
          "output_type": "execute_result",
          "data": {
            "text/plain": [
              "0.6766467065868264"
            ]
          },
          "metadata": {
            "tags": []
          },
          "execution_count": 11
        }
      ]
    },
    {
      "cell_type": "code",
      "metadata": {
        "id": "npJyRGeTDWVD"
      },
      "source": [
        ""
      ],
      "id": "npJyRGeTDWVD",
      "execution_count": null,
      "outputs": []
    }
  ]
}